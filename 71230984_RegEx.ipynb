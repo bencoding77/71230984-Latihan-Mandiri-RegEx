{
  "nbformat": 4,
  "nbformat_minor": 0,
  "metadata": {
    "colab": {
      "provenance": []
    },
    "kernelspec": {
      "name": "python3",
      "display_name": "Python 3"
    },
    "language_info": {
      "name": "python"
    }
  },
  "cells": [
    {
      "cell_type": "markdown",
      "source": [
        "Soal 1"
      ],
      "metadata": {
        "id": "AI6UJZL0c7r2"
      }
    },
    {
      "cell_type": "code",
      "execution_count": 1,
      "metadata": {
        "colab": {
          "base_uri": "https://localhost:8080/"
        },
        "id": "GoBLUjr7c5bd",
        "outputId": "8c6d0d29-9430-4a0b-825b-12522f4e6e7c"
      },
      "outputs": [
        {
          "output_type": "stream",
          "name": "stdout",
          "text": [
            "1945-08-17 17-08-1945 selisih 28760 hari\n",
            "1901-06-01 01-06-1901 selisih 44896 hari\n",
            "1902-08-12 12-08-1902 selisih 44460 hari\n"
          ]
        }
      ],
      "source": [
        "import re\n",
        "\n",
        "kalimat = \"Pada tanggal 1945-08-17, Indonesia memproklamasikan kemerdekaannya di Jakarta, dipimpin oleh Ir. Soekarno (TL: 1901-06-01) sebagai orator dan Moh. Hatta (TL: 1902-08-12) sebagai pendampingnya.\"\n",
        "\n",
        "tahun_baru = 2024\n",
        "bulan_baru = 6\n",
        "hari_baru = 2\n",
        "\n",
        "total_baru = (tahun_baru * 365) + (bulan_baru * 30) + (hari_baru)\n",
        "\n",
        "date = re.findall(r'\\d{4}-\\d{2}-\\d{2}', kalimat)\n",
        "for waktu in date:\n",
        "    tahun, bulan, hari = waktu.split(\"-\")\n",
        "    total_lama = (int(tahun) * 365) + (int(bulan) * 30) + (int(hari))\n",
        "\n",
        "    selisih = total_baru - total_lama\n",
        "    waktu_baru = \"-\".join([hari, bulan, tahun])\n",
        "    print(f\"{waktu} {waktu_baru} selisih {selisih} hari\")"
      ]
    },
    {
      "cell_type": "markdown",
      "source": [
        "Soal 2"
      ],
      "metadata": {
        "id": "HLgPhMffc-Fb"
      }
    },
    {
      "cell_type": "code",
      "source": [
        "import re\n",
        "import random\n",
        "\n",
        "teks = \"\"\"Berikut adalah daftar email dan nama pengguna dari mailing list:\n",
        "anton@mail.com dimiliki oleh antonius\n",
        "budi@gmail.co.id dimiliki oleh budi anwari\n",
        "slamet@getnada.com dimiliki oleh slamet slumut\n",
        "matahari@tokopedia.com dimiliki oleh toko matahari\n",
        "ben@codingasique.com dimiliki oleh ben\n",
        "\"\"\"\n",
        "\n",
        "email = re.findall(r'\\b\\S+@\\S+\\.\\S+\\b', teks)\n",
        "for name in email:\n",
        "    username, domain = name.split(\"@\")\n",
        "    password = []\n",
        "    for num in range(8):\n",
        "        password.append(random.choice(\"abcdefghijklmnopqrstuvwxyzABCDEFGHIJKLMNOPQRSTUVWXYZ0123456789\"))\n",
        "    password = \"\".join(password)\n",
        "    print(f\"{name} username: {username}, password: {password}\")"
      ],
      "metadata": {
        "colab": {
          "base_uri": "https://localhost:8080/"
        },
        "id": "bCFMZcYIc_XC",
        "outputId": "344fdf79-20bd-437f-e43e-7df356816016"
      },
      "execution_count": 2,
      "outputs": [
        {
          "output_type": "stream",
          "name": "stdout",
          "text": [
            "anton@mail.com username: anton, password: YDsw1XDa\n",
            "budi@gmail.co.id username: budi, password: NaDNp9Xf\n",
            "slamet@getnada.com username: slamet, password: 57QFlwpl\n",
            "matahari@tokopedia.com username: matahari, password: 8HVI3GFP\n",
            "ben@codingasique.com username: ben, password: 4wjSWepo\n"
          ]
        }
      ]
    }
  ]
}